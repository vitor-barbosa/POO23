{
 "cells": [
  {
   "cell_type": "markdown",
   "metadata": {},
   "source": [
    "# <center>Programação Orientada a Objetos <br> </center>\n",
    "\n",
    "<br>\n",
    "<br>\n",
    "\n",
    "### <center>Elementos Básicos de Programação em C#</center>\n",
    "\n",
    "##### <center>PARTE I - Expressões. Tipos elementares de informação. Nomes e atribuição, Predicados e condições. Comunicação com o exterior.</center>\n",
    "\n",
    "##### <center>PARTE II - Programas, instruções e sequenciação. Execução condicional. Repetição</center>\n",
    "\n",
    "<br>\n",
    "<br>\n",
    "\n",
    "###### <center>Notebook criado por: Bruno Câmara, ESCE, IPS, 2022</center>\n"
   ]
  },
  {
   "cell_type": "markdown",
   "metadata": {},
   "source": [
    "# <center>PARTE I</center>\n",
    "\n",
    "# <center>Expressões. Tipos elementares de informação. Nomes e atribuição. Predicados e condições. Comunicação com o exterior.</center>\n",
    "<br><br>"
   ]
  },
  {
   "cell_type": "markdown",
   "metadata": {},
   "source": [
    "## <center> Aprendizagem Interativa - Modo REPL (read-eval-print-loop) ➿ </center>\n",
    "\n",
    "<br>\n",
    "\n",
    "- C# Interactive (csi.exe)\n",
    "\n",
    "<small>\n",
    "\n",
    "```\n",
    "        Microsoft (R) Visual C# Interactive Compiler version 4.0.1-1.21568.1 ()\n",
    "        Copyright (C) Microsoft Corporation. All rights reserved.\n",
    "\n",
    "        Type \"#help\" for more information.\n",
    "        > Console.WriteLine(\"Hello World\");\n",
    "        Hello World\n",
    "        > 2 + 20\n",
    "        22\n",
    "        > \"Upskill - OutSystems\"\n",
    "        \"Upskill - OutSystems\"\n",
    "        >\n",
    "```\n",
    "\n",
    "</small>\n",
    "\n",
    "- [Jupyter Notebooks](https://jupyter.org/)\n",
    "\n",
    "    - Este ficheiro é um Jupyter Notebook os quais permitem adotar uma aprendizagem interativa\n",
    "    - As células marcadas como `C# (.NET Interactive)` permitem escrever C#. Experimenta a célula abaixo.\n"
   ]
  },
  {
   "cell_type": "code",
   "execution_count": null,
   "metadata": {
    "dotnet_interactive": {
     "language": "csharp"
    },
    "vscode": {
     "languageId": "polyglot-notebook"
    }
   },
   "outputs": [],
   "source": [
    "Console.WriteLine(\"Olá Mundo\");"
   ]
  },
  {
   "cell_type": "markdown",
   "metadata": {},
   "source": [
    "## <center>.NET e C# - O que são e a sua história </center>\n",
    "\n",
    "- [.NET](https://docs.microsoft.com/en-us/dotnet/core/introduction) é uma plataforma **gratuita, open-source, e _cross-platform_** (Windows, Linux, macOS, etc.) que permite desenvolver variados tipos de aplicações (consola, web, desktop, etc.):\n",
    "\n",
    "  - Suportada e distribuída pela **Microsoft** para os alvos Windows, macOS e Linux\n",
    "  - Existem duas implementações: \n",
    "    - **.NET 5+** (inclui .NET Core) que é cross-platform\n",
    "    - **.NET Framework** é a implementação original que apenas corre em Windows.\n",
    "<br><br>\n",
    "- Em 2002 -  1ª versão do .NET Framework (1.0). A a atual versão da implementação do .NET Framework é a 4.8.\n",
    "- Em 2014 - Lançada a 1ª versão open-souce (**.NET Core**). Manteve a designação .NET Core até 2019, quando a Microsoft decidiu rebatizar para **.NET 5**.\n",
    "- A versão mais recente é a **.NET 6** (lançada em Novembro de 2021)\n",
    "- Suporta as linguagens de programação C#, F#, e Visual Basic (parou de evoluir há muito tempo)\n",
    "<br><br>\n",
    "\n",
    "- [C#](https://docs.microsoft.com/en-us/dotnet/csharp/whats-new/csharp-version-history) (CSharp) é uma linguagem de programação moderna com as suas raízes nas linguagens da família do C (rapidamente familiar a C, C++, Java, e JavaScript)\n",
    "- Suporta múltiplos paradigmas de programação\n",
    "- Em 2002 é lançada a versão 1.0 (muito semelhante a Java por essa altura)\n",
    "- A atual versão é a **C# 10** (lançada conjuntamente com o .NET 6)\n",
    "<br><br>\n",
    "- **Vamos usar .NET 6 com C# 10**."
   ]
  },
  {
   "cell_type": "markdown",
   "metadata": {},
   "source": [
    "## <center>Elementos Básicos de Programação - Expressões </center>\n",
    "\n",
    "\n",
    "- **Uma expressão é uma entidade computacional que tem um valor**.\n",
    "- Usamos o termo **entidade computacional** para designar de um modo genérico, uma **entidade que existe dentro de um programa** \n",
    "<br><br>\n",
    "\n",
    "- Uma expressão pode ser:\n",
    "  - Uma **constante**\n",
    "  - Uma **expressão composta**\n",
    "  - Um **nome**\n",
    "  - Ou **aplicação de uma função**\n"
   ]
  },
  {
   "cell_type": "markdown",
   "metadata": {},
   "source": [
    "## <center>Elementos Básicos de Programação - Expressões Constantes</center>\n",
    "\n",
    "- Números **inteiros** e **reais**, **valores lógicos**, **caracteres** e **cadeias de caracteres** (vulgo _strings_):\n",
    "\n",
    "    - `2022`\n",
    "    - `-23`\n",
    "    - `-12`\n",
    "    - `3.14`\n",
    "    - `10e5`\n",
    "    - `65991454979643543543543543543543556456.0`\n",
    "    - `0.000000000000000000000000004`\n",
    "    - `true` (Experimenta também com `True` para verificar que dá erro)\n",
    "    - `false`\n",
    "    - `'A'`\n",
    "    - `'x'`\n",
    "    - `\"Hello world\"`\n",
    "    - `\"As strings são cadeias de caracteres\"`\n"
   ]
  },
  {
   "cell_type": "code",
   "execution_count": null,
   "metadata": {
    "dotnet_interactive": {
     "language": "csharp"
    },
    "vscode": {
     "languageId": "polyglot-notebook"
    }
   },
   "outputs": [],
   "source": [
    "\"Hello world\""
   ]
  },
  {
   "cell_type": "markdown",
   "metadata": {},
   "source": [
    "## <center>Elementos Básicos de Programação - Expressões Compostas</center>\n",
    "\n",
    "- Uma expressão composta consiste na **aplicação de uma operação a operandos** \n",
    "<br><br>\n",
    "\n",
    "- Existe um conjunto de operações pré-definidas (**_built-in operations_**):\n",
    "    - Operações _built-in_: `+`, `-`(subtração), `*`, `/`, `%`, `-`(simétrico) `<`, `<=`, `>`, `>=`, `==`, `!=`, `&&`, `||`, `!`, etc.\n",
    "<br><br>\n",
    "\n",
    "- Exemplos\n",
    "    - `2 + 5`\n",
    "    - `10 - 25`\n",
    "    - `2.0 * 3`\n",
    "    - `3 * 25 + 12`\n",
    "    - `3 * (25 + 12)`\n",
    "    - `12 / 5`\n",
    "    - `12 / 5.0`\n",
    "    - `-(2e3)`\n",
    "    - `true && false`\n",
    "    - `!false`\n",
    "    - `10 > 25`\n",
    "    - `5.001 < 26 / 5 `\n",
    "    - `\"Hello world\" == \"hello world\"`\n"
   ]
  },
  {
   "cell_type": "code",
   "execution_count": null,
   "metadata": {
    "dotnet_interactive": {
     "language": "csharp"
    },
    "vscode": {
     "languageId": "polyglot-notebook"
    }
   },
   "outputs": [],
   "source": [
    "3 * (25 + 12)"
   ]
  },
  {
   "cell_type": "markdown",
   "metadata": {},
   "source": [
    "## <center>Expressões Compostas - [Precedência dos Operadores](https://docs.microsoft.com/en-us/dotnet/csharp/language-reference/operators/#operator-precedence)</center>\n",
    "\n",
    "- Numa expressão com vários operadores, **os operadores com maior precedência são avaliados antes dos operadores com precedência menor**.\n",
    "<br><br>\n",
    "\n",
    "<center>\n",
    "\n",
    "![C# Operators Precedence](./csharp-operator-precedence.png)\n",
    "\n",
    "</center>\n"
   ]
  },
  {
   "cell_type": "markdown",
   "metadata": {},
   "source": [
    "## <center>Expressões Compostas - [Precedência dos Operadores](https://docs.microsoft.com/en-us/dotnet/csharp/language-reference/operators/#operator-precedence) (2)</center>\n",
    "\n",
    "- Para operadores com a **mesma precedência**, na sua grande maioria **os operadores são avaliados da esquerda para a direita**\n",
    "<br><br>\n",
    "\n",
    "- Podemos **usar parêntesis para alterar a ordem de avaliação** imposta\n",
    "    - `5 * 3 + 2`\n",
    "    - `5 * (3 + 2)`\n",
    "\n"
   ]
  },
  {
   "cell_type": "code",
   "execution_count": null,
   "metadata": {
    "dotnet_interactive": {
     "language": "csharp"
    },
    "vscode": {
     "languageId": "polyglot-notebook"
    }
   },
   "outputs": [],
   "source": []
  },
  {
   "cell_type": "markdown",
   "metadata": {},
   "source": [
    "## <center>Elementos Básicos de Programação - Tipos Elementares</center>\n",
    "\n",
    "\n",
    "- **Tipos de Dados** (**_Data Types_**): Conjunto de entidades (**valores**) e um conjunto de **operações** aplicáveis\n",
    "<br><br>\n",
    "- Tipos **Elementares** vs Tipos **Estruturados**\n",
    "    - Tipos Elementares - as suas constantes são indecomponíveis\n",
    "    - Tipos Estruturados - as suas constantes são constituídas por um agregado de valores\n",
    "<br><br>\n",
    "- Em C# temos como exemplo de tipos elementares:\n",
    "    - tipo inteiro (_integer_) `int` (`System.Int32`) e [outros](https://docs.microsoft.com/en-us/dotnet/csharp/language-reference/builtin-types/integral-numeric-types) (`byte`, `short`, `long`, etc.)\n",
    "    - tipo real, `double` (`System.Double`) e [outros](https://docs.microsoft.com/en-us/dotnet/csharp/language-reference/builtin-types/floating-point-numeric-types) (`float`, `decimal`, etc.)\n",
    "    - tipo lógico, `bool` (`System.Boolean`) [Mais info](https://docs.microsoft.com/en-us/dotnet/csharp/language-reference/builtin-types/bool)    \n",
    "    - tipo caractere, `char` (`System.Char`) [Mais info](https://docs.microsoft.com/en-us/dotnet/csharp/language-reference/builtin-types/char)\n",
    "<br><br>\n",
    "- Podemos usar o `.GetType()` ou o operador `is` para verificar o tipo de uma expressão. Exemplos:\n",
    "    - `2.GetType()`\n",
    "    - `(2 > 5).GetType()`\n",
    "    - `3.14 is double`\n",
    "    - `'A' is int`\n",
    "<br><br>\n",
    "- Tipos não elementares (strings, arrays, listas, datas, etc.). Em breve 😏.\n",
    "\n",
    "\n"
   ]
  },
  {
   "cell_type": "code",
   "execution_count": null,
   "metadata": {
    "dotnet_interactive": {
     "language": "csharp"
    },
    "vscode": {
     "languageId": "polyglot-notebook"
    }
   },
   "outputs": [],
   "source": [
    "long.MaxValue"
   ]
  },
  {
   "cell_type": "markdown",
   "metadata": {},
   "source": [
    "## <center>[O Tipo Inteiro](https://docs.microsoft.com/en-us/dotnet/csharp/language-reference/builtin-types/integral-numeric-types) (`int`)</center>\n",
    "\n",
    "- **Números sem parte decimal**, podendo ser positivos, negativos ou zero.\n",
    "- Suporta a generalidade das operações matemáticas\n",
    "\n",
    "<center>\n",
    "\n",
    "|Operação   |Tipo dos argumentos|Valor                                          |\n",
    "|-----------|-------------------|-----------------------------------------------|\n",
    "| `e1 + e2` | Inteiros          | O resultado de somar `e1` com `e2`            |\n",
    "| `e1 - e2` | Inteiros          | O resultado de subtrair `e2` a `e1`           |\n",
    "|    `-e`   | Inteiros          | O simétrico de `e`                            |\n",
    "| `e1 * e2` | Inteiros          | O resultado de multiplicar `e1` por `e2`      |\n",
    "| `e1 / e2` | Inteiros          | O resultado da divisão inteira de  `e1` por `e2`|\n",
    "| `e1 % e2` | Inteiros          | O resto da divisão inteira de `e1` por `e2`   |\n",
    "\n",
    "</center>\n",
    "\n",
    "- Outras operações matemáticas podem ser realizadas recorrendo à entidade [`Math`](https://docs.microsoft.com/en-us/dotnet/api/system.math) \n",
    "    - por agora podemos encarar a entidade `Math` como um componente que disponibiliza um conjunto de operações matemáticas. \n",
    "    - veremos mais para a frente qual o nome correto para estas entidades computacionais.\n",
    "<br><br>\n",
    "\n",
    "- Exemplos\n",
    "    - `33`\n",
    "    - `0` \n",
    "    - `-46`\n",
    "    - `3 + 8`\n",
    "    - `2 - 7`\n",
    "    - `9 * 3`\n",
    "    - `24 / 8`\n",
    "    - `23 / 8`\n",
    "    - `23 % 8`\n",
    "    - `Math.Abs(-5)`\n"
   ]
  },
  {
   "cell_type": "code",
   "execution_count": null,
   "metadata": {
    "dotnet_interactive": {
     "language": "csharp"
    },
    "vscode": {
     "languageId": "polyglot-notebook"
    }
   },
   "outputs": [],
   "source": [
    "Math.Abs(-2)"
   ]
  },
  {
   "cell_type": "markdown",
   "metadata": {},
   "source": [
    "## <center>[O Tipo Real](https://docs.microsoft.com/en-us/dotnet/csharp/language-reference/builtin-types/floating-point-numeric-types) (`double`)</center>\n",
    "\n",
    "- **Números com parte decimal**.\n",
    "    - Muitas vezes designado de números de vírgula flutuante ([_floating point_](https://docs.microsoft.com/en-us/dotnet/csharp/language-reference/builtin-types/floating-point-numeric-types)).\n",
    "- Suporta notação decimal (`7.23`, `-0.0003`) e notação científica (`4.3e5`, `-2e-7`)\n",
    "- Suporta a generalidade das operações matemáticas\n",
    "\n",
    "<center>\n",
    "\n",
    "|Operação   |Tipo dos argumentos   |Valor                                          |\n",
    "|-----------|---------------------|-----------------------------------------------|\n",
    "| `e1 + e2` | Reais               | O resultado de somar `e1` com `e2`            |\n",
    "| `e1 - e2` | Reais               | O resultado de subtrair `e2` a `e1`           |\n",
    "|    `-e`   | Reais               | O simétrico de `e`                            |\n",
    "| `e1 * e2` | Reais               | O resultado de multiplicar `e1` por `e2`      |\n",
    "| `e1 / e2` | Reais               | O resultado de dividir `e1` por `e2`          |\n",
    "\n",
    "\n",
    "</center>\n",
    "\n",
    "\n",
    "- Tal como vimos nos inteiros, outras operações matemáticas podem ser realizadas recorrendo à entidade [`Math`](https://docs.microsoft.com/en-us/dotnet/api/system.math).\n",
    "\n",
    "- Exemplos\n",
    "    - `45.238`\n",
    "    - `0.02` \n",
    "    - `-47.74`\n",
    "    - `3.1 + 8.25`\n",
    "    - `5.6 - 7.1`\n",
    "    - `9.0 * 3.0`\n",
    "    - `24.0 / 8.0`\n",
    "    - `23.0 / 8.0`\n",
    "    - `Math.Sqrt(25.0)`\n"
   ]
  },
  {
   "cell_type": "code",
   "execution_count": null,
   "metadata": {
    "dotnet_interactive": {
     "language": "csharp"
    },
    "vscode": {
     "languageId": "polyglot-notebook"
    }
   },
   "outputs": [],
   "source": []
  },
  {
   "cell_type": "markdown",
   "metadata": {},
   "source": [
    "## <center> [Conversões de Tipos](https://docs.microsoft.com/en-us/dotnet/csharp/language-reference/language-specification/conversions) </center>\n",
    "\n",
    "- O que acontece quando efetuamos uma **operação com operandos de tipos diferentes**? (por exemplo, `3 + 2.2`, ou `5.25 / 2`)\n",
    "    - É feita uma **conversão implícita**: o número inteiro é tranformado num número real e só depois é que a operação é feita normalmente\n",
    "    - A esta **conversão implícita** é também designado de coerção de tipos (**_type coercion_**)\n",
    "<br><br>\n",
    "- Também podemos efetuar **conversões explícitas** através de uma expressão de **_[cast](https://docs.microsoft.com/en-us/dotnet/csharp/language-reference/operators/type-testing-and-cast#cast-expression)_**: `(<tipo-de-dados>)<expressão>` \n",
    "    - `(int)25.3` -> A parte inteira do número real\n",
    "    - `(double)5` -> O número real correspondente ao número inteiro\n",
    "<br><br>\n",
    "- Existem _casts_ que não são possíveis de fazer, por exemplo de `string` para `int` ou `double`:\n",
    "    - `(int)\"256\"` - Erro de conversão\n",
    "    - `(double)\"3.14\"` - Erro de conversão"
   ]
  },
  {
   "cell_type": "code",
   "execution_count": null,
   "metadata": {
    "dotnet_interactive": {
     "language": "csharp"
    },
    "vscode": {
     "languageId": "polyglot-notebook"
    }
   },
   "outputs": [],
   "source": [
    "(int)\"256\""
   ]
  },
  {
   "cell_type": "markdown",
   "metadata": {},
   "source": [
    "## <center> [O Tipo Lógico/Booleano](https://docs.microsoft.com/en-us/dotnet/csharp/language-reference/builtin-types/bool) (`bool`) </center>\n",
    "\n",
    "- Apenas pode assumir dois valores, `true` (verdadeiro) ou `false` (falso)\n",
    "<br><br>\n",
    "- Existem operações binárias\n",
    "    - **Conjunção Condicional**: `&&` - significa \"isto **E** aquilo\" (sendo que `aquilo` NÃO chega a ser avaliado caso `isto` seja `false`)\n",
    "    - **Disjunção Condicional**: `||` - significa \"isto **OU** aquilo (sendo que `aquilo` NÃO chega a ser avaliado caso `isto` seja `true`)\n",
    "    \n",
    "<center>\n",
    "\n",
    "| `e1`  | `e2`  | `e1 && e2`  | `e1 \\|\\| e2` |\n",
    "|-------|-------|-------------|--------------|\n",
    "|`true` |`true` | `true`      |  `true`      |\n",
    "|`true` |`false`| `false`     |  `true`      |\n",
    "|`false`|`true` | `false`     |  `true`      |\n",
    "|`false`|`false`| `false`     |  `false`     |\n",
    "\n",
    "</center>\n",
    "<br><br>\n",
    "<small>\n",
    "\n",
    "_Nota_: Existem também as operações de `&` e `|`, as quais avaliam todos os seus operandos. Tipicamente não é isto que queremos.\n",
    "\n",
    "</small>\n",
    "\n",
    "- Existe a operação unária de **Negação** `!` que inverte o valor lógico.\n",
    "    - `!true`\n",
    "    - `!false`\n",
    "    - `!!true`"
   ]
  },
  {
   "cell_type": "code",
   "execution_count": null,
   "metadata": {
    "dotnet_interactive": {
     "language": "csharp"
    },
    "vscode": {
     "languageId": "polyglot-notebook"
    }
   },
   "outputs": [],
   "source": []
  },
  {
   "cell_type": "markdown",
   "metadata": {},
   "source": [
    "## <center>Tipos Estruturados - [O Tipo Cadeia de Caracteres](https://docs.microsoft.com/en-us/dotnet/csharp/programming-guide/strings/) (`string`) </center>\n",
    "\n",
    "- O tipo cadeia de carateres é um tipo estruturado que corresponde a uma **sequência de caracteres individuais**, delimitados por `\"\"`\n",
    "    - `\"this is a string\"`\n",
    "<br><br>\n",
    "\n",
    "- Pode ser visto internamente como uma estrutura com várias posições, e em cada posição temos um caractere\n",
    "    - `\"Hello World\"`\n",
    "<br><br>\n",
    "\n",
    "\n",
    "    |Posicão  | 0 | 1 | 2 | 3 | 4 | 5 | 6 | 7 | 8 | 9 | 10 | \n",
    "    |---------|---|---|---|---|---|---|---|---|---|---|----|\n",
    "    |(_Length_:11)|'H'|'e'|'l'|'l'|'o'|' '|'W'|'o'|'r'|'l'|'d'|\n",
    "<br>\n",
    "\n",
    "- Podemos aceder a determinada posição através da utilização de `[]`. De notar que a 1ª posição é a **posição zero**.\n",
    "    - Ex: `\"Hello World\"[3]`\n",
    "<br><br>\n",
    "\n",
    "- Existem caracteres especiais que precisam de ser precedidos por uma `\\` (fazer o **_escape_** do caractere)\n",
    "    - `\"this is \\\"string\\\".\\nThis should be in a new line.\\nMy folder is in C:\\\\Upskill\"`\n",
    "<br><br>\n",
    "\n",
    "- Quando temos que fazer escape de muitos caracteres, podemos  prefixar a string com um `@` (_verbatim string_) para ser mais fácil de ler\n",
    "\n",
    "<small>\n",
    "\n",
    "```\n",
    "        @\"this is a \"\"string\"\".\n",
    "        This should be in a new line.\n",
    "        My folder is in C:\\Upskill\"\n",
    "```\n",
    "\n",
    "</small>\n",
    "<br>\n",
    "\n",
    "- **Concatenação** de cadeias de caracteres através do operador `+`\n",
    "    - `\"isto é uma string\" + \" concatenada com outra string\"`\n",
    "<br><br>\n",
    "\n",
    "- **Interpolação** de strings através do caracter especial `$`\n",
    "    - `$\"isto é uma string interpolada{Environment.NewLine}. O resultado de um True AND True = {true && true}\"`\n",
    "<br><br>\n",
    "\n",
    "<small>\n",
    "\n",
    "**_Nota_**: Revisitaremos as strings em detalhe mais à frente e veremos que outras operações podemos fazer sobre as mesmas.\n",
    "\n",
    "</small>"
   ]
  },
  {
   "cell_type": "code",
   "execution_count": null,
   "metadata": {
    "dotnet_interactive": {
     "language": "csharp"
    },
    "vscode": {
     "languageId": "polyglot-notebook"
    }
   },
   "outputs": [],
   "source": [
    "\"Hello World\"[0].GetType()"
   ]
  },
  {
   "cell_type": "markdown",
   "metadata": {},
   "source": [
    "## <center> Nomes e Atribuição </center>\n",
    "\n",
    "<center>\n",
    "\n",
    "![Names quote](./names-quote-dale-carnegie.jpg)\n",
    "\n",
    "</center>"
   ]
  },
  {
   "cell_type": "markdown",
   "metadata": {},
   "source": [
    "## <center> Nomes/Variáveis (_Variables_)</center>\n",
    "\n",
    "- Um dos aspetos mais importantes na programação é a **possibilidade de darmos nomes a entidades computacionais**\n",
    "    - Um **nome é uma abstração** para a entidade computacional a que se refere\n",
    "    - Visto que a entidade representada **pode variar durante a execução do programa**, os nomes são também conhecidos como **variáveis**.\n",
    "    - Para criarmos uma variável temos que a **declarar**, **indicando o tipo de dados desse mesmo nome**\n",
    "        - `<tipo> <nome>;`        \n",
    "    - O `;` é o indicador em C# de fim de comando (_statement_)\n",
    "    - Exemplos:\n",
    "        - `int myAge;`\n",
    "        - `double finalPrice;`\n",
    "        - `double cost;`\n",
    "        - `bool isMarried;`\n",
    "        - `bool isMale;`\n",
    "\n",
    "<small>\n",
    "\n",
    "**_Nota_**:  veremos mais à frente qual o âmbito (**_scope_**) de uma variável, ou seja, em que momento é que a variável está disponível e em que momento deixa de o estar.\n",
    "\n",
    "</small>"
   ]
  },
  {
   "cell_type": "code",
   "execution_count": null,
   "metadata": {
    "dotnet_interactive": {
     "language": "csharp"
    },
    "vscode": {
     "languageId": "polyglot-notebook"
    }
   },
   "outputs": [],
   "source": [
    "int myAge;\n",
    "double finalPrice, cost;\n",
    "bool isMarried, isMale;"
   ]
  },
  {
   "cell_type": "markdown",
   "metadata": {},
   "source": [
    "## <center> Atribuição (_Assignment_) </center>\n",
    "\n",
    "- A associação entre um nome e um valor é feita através da **instrução de atribuição**. \n",
    "    - Em C# a instrução de atribuição é feita através do `=`\n",
    "        - `<nome> = <valor>;`\n",
    "    - **Pressupõe que a variável existe tendo sido declarada anteriormente**\n",
    "    - Exemplos:\n",
    "        - `myAge = 25;`\n",
    "        - `finalPrice = 1120.25`;\n",
    "        - `cost = 920`\n",
    "        - `isMarried = false`;\n",
    "        - `isMale = true`\n",
    "        - `myMistake = 3;`  -> Dará erro pois a variável `myMistake` não foi declarada.\n"
   ]
  },
  {
   "cell_type": "code",
   "execution_count": null,
   "metadata": {
    "dotnet_interactive": {
     "language": "csharp"
    },
    "vscode": {
     "languageId": "polyglot-notebook"
    }
   },
   "outputs": [],
   "source": [
    "char myChar;\n",
    "Console.WriteLine(myChar);"
   ]
  },
  {
   "cell_type": "markdown",
   "metadata": {},
   "source": [
    "## <center> Declaração e Atribuição </center>\n",
    "\n",
    "- A **declaração e a atribuição pode ser feita no mesmo comando**\n",
    "    - `<tipo> <nome> = <valor>;`\n",
    "<br><br>\n",
    "- A **declaração do tipo pode ser feita implicitamente** através da _keyword_ [`var`](https://docs.microsoft.com/en-us/dotnet/csharp/language-reference/keywords/var).\n",
    "    - `var <nome> = <valor>;`\n",
    "    - o tipo é **determinado pelo compilador com base no valor que está a ser assignado** à variável\n",
    "    - Como boa prática a utilização de `var` só deve ser usada quando o tipo de dados é óbvio a partir do lado direito da atribuição. \n",
    " <br><br>   \n",
    "\n",
    "- Exemplos:\n",
    "    - `double isUpskillStudent = true;`\n",
    "    - `int numberOfStudents = 14;`\n",
    "    - `double avgTemperatureCelsius = 16.7;`\n",
    "    - `var introMessage = \"Hello\";` \n",
    "    - `var numberOfCases = 200;`    \n",
    "<br><br>\n",
    "\n",
    "\n",
    "- Quando é feita apenas a declaração, a variável assume o valor [default](https://docs.microsoft.com/en-us/dotnet/csharp/language-reference/builtin-types/default-values). Por exemplo no caso de inteiros e reais é o `0`, e no caso dos booleanos é o `false`. \n",
    "\n",
    "<small>\n",
    "\n",
    "```csharp\n",
    "        int notInitialized;\n",
    "        notInitialized\n",
    "```\n",
    "\n",
    "</small>\n",
    "\n",
    "- No caso das `strings` o valor omissão é um valor especial designado de [`null`](https://docs.microsoft.com/en-us/dotnet/csharp/language-reference/keywords/null) que podemos encarar como não tendo qualquer valor.\n",
    "\n",
    "<small>\n",
    "\n",
    "```csharp\n",
    "        string myString;\n",
    "        myString\n",
    "```\n",
    "\n",
    "</small>\n",
    "\n",
    "- De notar que o valor `null` e a string vazia `\"\"` (`string.Empty`) são coisas diferentes.\n",
    "\n",
    "<small>\n",
    "\n",
    "```csharp\n",
    "        string myNullString = null;\n",
    "        string myEmptyString = \"\";\n",
    "        Console.WriteLine(myNullString == myEmptyString);\n",
    "        Console.WriteLine(string.IsNullOrEmpty(myNullString));\n",
    "        Console.WriteLine(string.IsNullOrEmpty(myEmptyString));\n",
    "```\n",
    "\n",
    "</small>"
   ]
  },
  {
   "cell_type": "code",
   "execution_count": null,
   "metadata": {
    "dotnet_interactive": {
     "language": "csharp"
    },
    "vscode": {
     "languageId": "polyglot-notebook"
    }
   },
   "outputs": [],
   "source": [
    "\n",
    "string myNullString;\n",
    "string myEmptyString = \"\";\n",
    "string.IsNullOrEmpty(\"uma string qq\")"
   ]
  },
  {
   "cell_type": "markdown",
   "metadata": {},
   "source": [
    "## <center> Atribuição e Expressões </center>\n",
    "\n",
    "- A atribuição não está limitada a valores. Podemos usar de forma mais genérica uma expressão quando queremos **atribuir o valor que é o resultado dessa expressão** \n",
    "    - `<nome> = <expressão>;`\n",
    "<br><br>\n",
    "\n",
    "- Primeiro é **avaliada a expressão** (têm um valor). Só depois é **executada a instrução de atribuição** (têm um efeito).\n",
    " <br><br>\n",
    "\n",
    "- Exemplos\n",
    "    - `myAge = 2022 - 1976;`\n",
    "    - `int myBrothersAge = myAge + 3`;\n",
    "    - `bool isSingle = !isMarried;`\n",
    "    - `myAge = myAge + 1`;\n",
    "    - `double profit = finalPrice - cost`; "
   ]
  },
  {
   "cell_type": "code",
   "execution_count": null,
   "metadata": {
    "dotnet_interactive": {
     "language": "csharp"
    },
    "vscode": {
     "languageId": "polyglot-notebook"
    }
   },
   "outputs": [],
   "source": [
    "bool isMarried = true;\n",
    "bool isSingle = !isMarried;"
   ]
  },
  {
   "cell_type": "markdown",
   "metadata": {},
   "source": [
    "## <center>Nomes Inválidos</center>\n",
    "\n",
    "- Existem alguns nomes que não podemos adotar nas nossas variáveis:\n",
    "\n",
    "    - Ora por serem **nomes reservados** (_[keywords](https://docs.microsoft.com/en-us/dotnet/csharp/language-reference/keywords/)_) da prória linguagem\n",
    "        - Exemplos:\n",
    "            - `false`\n",
    "            - `return`\n",
    "            - `while`\n",
    "            - etc.\n",
    "    - Ora por existirem **alguma regras**\n",
    "        - Não podem ter espaços ou hyphen\n",
    "        - Não podem começar por dígitos\n",
    "        - etc.\n",
    "        - Exemplos:\n",
    "            - `int invalid-name;`\n",
    "            - `double another one;`\n",
    "            - `bool 1more;`\n"
   ]
  },
  {
   "cell_type": "code",
   "execution_count": null,
   "metadata": {
    "dotnet_interactive": {
     "language": "csharp"
    },
    "vscode": {
     "languageId": "polyglot-notebook"
    }
   },
   "outputs": [],
   "source": []
  },
  {
   "cell_type": "markdown",
   "metadata": {},
   "source": [
    "## <center>Predicados e Condições</center>\n",
    "\n",
    "- O termo **predicado** designa uma operação que produz resultados to tipo lógico. Por exemplo as operações `!`, `&&` e `||` são predicados.\n",
    "\n",
    "- Existem outros predicados _built-in_ designados de **operadores relacionais**\n",
    "\n",
    "<center>\n",
    "\n",
    "|Operação|Valor|\n",
    "|--------|----|\n",
    "| `e1 == e2` | `true` se e só se os valores das expressões de `e1` e `e2` são **iguais** |\n",
    "| `e1 != e2` | `true` se e só se os valores das expressões de `e1` e `e2` são **diferentes** |\n",
    "| `e1 > e2` | `true` se e só se o valor da expressão de `e1` é **maior que** o valor da expressão de `e2` |\n",
    "| `e1 >= e2` | `true` se e só se o valor da expressão de `e1` é **maior ou igual que** o valor da expressão de `e2` |\n",
    "| `e1 < e2` | `true` se e só se o valor da expressão de `e1` é **menor que** o valor da expressão de `e2` |\n",
    "| `e1 <= e2` | `true` se e só se o valor da expressão de `e1` é **menor ou igual que** o valor da expressão de `e2` |\n",
    "\n",
    "\n",
    "</center>\n",
    "\n",
    "- Uma **condição** é uma expressão cujo valor é do tipo lógico.\n",
    "\n",
    "- Exemplos:\n",
    "    - `myAge > 20 && myAge < 20`\n",
    "    - `myBrothersAge == myAge + 3`\n",
    "    - `!isMarried`\n",
    "\n"
   ]
  },
  {
   "cell_type": "code",
   "execution_count": null,
   "metadata": {
    "dotnet_interactive": {
     "language": "csharp"
    },
    "vscode": {
     "languageId": "polyglot-notebook"
    }
   },
   "outputs": [],
   "source": []
  },
  {
   "cell_type": "markdown",
   "metadata": {},
   "source": [
    "## <center>Comunicação com o Exterior - Escrita de Dados (_Output_)</center>\n",
    "\n",
    "- As operações de escrita de dados permitem t**ransmitir informação do programa para o exterior**:\n",
    "    - escrita num ecrã\n",
    "    - escrita num ficheiro\n",
    "    - etc.\n",
    "<br><br>\n",
    "\n",
    "- Por agora apenas **vamos considerar a escrita no ecrã (na consola)**. Usaremos a entidade `Console` através da operação [`Console.WriteLine`](https://docs.microsoft.com/en-us/dotnet/api/system.console.writeline)\n",
    "    - `Console.WriteLine(\"Hello Upskill\");`\n",
    "    - `Console.WriteLine(\"My age is: \" + myAge);`\n",
    "    - `Console.WriteLine(\"My age is {0} and my brother's age is {1}\", myAge, myBrothersAge);`\n",
    "    - `Console.WriteLine($\"My age is {myAge} and my brother's age is {myBrothersAge}\");`\n",
    "<br><br>\n",
    "\n",
    "- Podemos também usar a operação `Console.Write` a qual não faz a quebra de linha no final.\n"
   ]
  },
  {
   "cell_type": "code",
   "execution_count": null,
   "metadata": {
    "dotnet_interactive": {
     "language": "csharp"
    },
    "vscode": {
     "languageId": "polyglot-notebook"
    }
   },
   "outputs": [],
   "source": [
    "Console.WriteLine(\"Hello World\");\n",
    "Console.WriteLine(true);\n",
    "Console.WriteLine(2025.369);"
   ]
  },
  {
   "cell_type": "markdown",
   "metadata": {},
   "source": [
    "## <center>Comunicação com o Exterior - Leitura de dados (_Input_)</center>\n",
    "\n",
    "- As operações de leitura de dados permitem **transmitir informação do exterior para o programa**\n",
    "    - de um humano através do teclado\n",
    "    - de um ficheiro\n",
    "    - etc.\n",
    "<br><br>\n",
    "\n",
    "- Por agora **vamos considerar o teclado numa consola**. Usaremos a operação [`Console.ReadLine`](https://docs.microsoft.com/en-us/dotnet/api/system.console.readline)\n",
    "    - lê todos os símbolos introduzidos no teclado até que o utilizador carregue na tecla Return/Enter. \n",
    "    - O valor retornado é uma cadeia de caracteres (`string`) cujo conteúdo é a sequência de caracteres encontrada durante a leitura\n",
    "<br><br>\n",
    "\n",
    "- Exemplo\n",
    "<br><br>\n",
    "\n",
    "<small>\n",
    "\n",
    "```csharp\n",
    "        Console.WriteLine(\"What's your name?\");\n",
    "        string yourName = Console.ReadLine();\n",
    "        Console.WriteLine($\"Your name is {yourName}\");\n",
    "```\n",
    "\n",
    "</small>\n",
    "<br><br>\n",
    "\n",
    "<small>\n",
    "\n",
    "_Nota_: o `Console.ReadLine` não funciona muito bem nos notebooks Jupyter. Corre a célula seguinte antes de experimentares. Ou em alternativa testa no Visual Studio ou Replit.\n",
    "\n",
    "</small>"
   ]
  },
  {
   "cell_type": "code",
   "execution_count": null,
   "metadata": {
    "dotnet_interactive": {
     "language": "csharp"
    },
    "vscode": {
     "languageId": "polyglot-notebook"
    }
   },
   "outputs": [],
   "source": [
    "// Corre esta célula antes de experimentares o Console.ReadLine.\n",
    "// Não apagues.\n",
    "static class Console {\n",
    "    public static void WriteLine(string text) => System.Console.WriteLine(text);\n",
    "    public static string ReadLine() => GetInputAsync(\"\").GetAwaiter().GetResult();\n",
    "}"
   ]
  },
  {
   "cell_type": "code",
   "execution_count": null,
   "metadata": {
    "dotnet_interactive": {
     "language": "csharp"
    },
    "vscode": {
     "languageId": "polyglot-notebook"
    }
   },
   "outputs": [],
   "source": [
    "int idade, idadeFutura;\n",
    "string valorIntroduzido;\n",
    "\n",
    "Console.WriteLine(\"Qual a tua idade\");\n",
    "\n",
    "valorIntroduzido = Console.ReadLine(); \n",
    "idade = Convert.ToInt32(valorIntroduzido);\n",
    "idadeFutura = idade + 10;\n",
    "\n",
    "Console.WriteLine(\"Daqui a 10 terás \" + idadeFutura + \" anos\");"
   ]
  },
  {
   "cell_type": "markdown",
   "metadata": {},
   "source": [
    "## <center> Leitura de Dados - Conversão de Tipos </center>\n",
    "\n",
    "- Imaginemos o caso em que **perguntamos a idade ao utilizador**. Estamos à espera que seja introduzido um número. \n",
    "\n",
    "- Se o `Console.ReadLine` retorna uma `string`, como converter para um `int`? 🤔\n",
    "\n",
    "- Será que funciona?\n",
    "    - `int age = Console.ReadLine();`\n",
    "    - `int age = (int)Console.ReadLine();`\n",
    "<br><br>\n",
    "\n",
    "- Temos que **usar algo que nos ajude a converter para um entidade do tipo inteiro**. Vamos conhecer a entidade [`Convert`](https://docs.microsoft.com/en-us/dotnet/api/system.convert)\n",
    "    - `int age = Convert.ToInt32(Console.ReadLine());`\n",
    "<br><br>\n",
    "\n",
    "- Alternativamente podemos usar a operação [`Parse`](https://docs.microsoft.com/en-us/dotnet/api/system.int32.parse?view=net-6.0) disponível na entidade que representa o próprio tipo de dados\n",
    "    - `int age = int.Parse(Console.ReadLine());`\n",
    "<br><br>\n",
    "\n",
    "- Então e se o utilizador introduzir algo que não é um número válido?\n",
    "    - Obteremos um **erro de runtime**, mais conhecido por **Exceção** (**_Exception_**)\n",
    "\n",
    "<small>\n",
    "\n",
    "**_Nota_**: Veremos mais à frente como lidar com erros/excepções\n",
    "\n",
    "</small>"
   ]
  },
  {
   "cell_type": "code",
   "execution_count": null,
   "metadata": {
    "dotnet_interactive": {
     "language": "csharp"
    },
    "vscode": {
     "languageId": "polyglot-notebook"
    }
   },
   "outputs": [],
   "source": []
  },
  {
   "cell_type": "markdown",
   "metadata": {},
   "source": [
    "## <center> O poder do ponto (`.`) 🤹‍♂️ </center>\n",
    "\n",
    "- Começamos a detetar um padrão de utilização em todas as entidades computacionais através da **utilização do ponto** (`.`)\n",
    "- Exemplos:\n",
    "    - `2.GetType()`\n",
    "    - `int.Parse(\"2\");`\n",
    "    - `Convert.ToInt32(\"25\");`\n",
    "    - `Console.WriteLine(\"Hello\");`\n",
    "<br><br>\n",
    "\n",
    "- Ao usarmos o ponto (`.`) numa entidade computacional, conseguimos **ter acesso a uma panóplia de opções que se encontram dentro da própria entidade**. 👍\n",
    "- Tenta descobrir como determinar o tamanho de uma `string` (ou seja, o número de caracteres)\n",
    "- Tenta descobrir também como extrair partes de uma `string`, por exemplo, na cadeia de caracteres `\"Name: Upskill\"` estamos apenas interessados na substring `\"Upskill\"`\n",
    "\n"
   ]
  },
  {
   "cell_type": "code",
   "execution_count": null,
   "metadata": {
    "dotnet_interactive": {
     "language": "csharp"
    },
    "vscode": {
     "languageId": "polyglot-notebook"
    }
   },
   "outputs": [],
   "source": [
    "string name = \"Name: Upskill\";\n",
    "int startPos = name.IndexOf(' ');\n",
    "Console.WriteLine(startPos);"
   ]
  },
  {
   "cell_type": "markdown",
   "metadata": {},
   "source": [
    "# <center>PARTE II</center>\n",
    "\n",
    "# <center>Programas, instruções e sequenciação. Execução condicional. Repetição</center>\n",
    "<br><br>"
   ]
  },
  {
   "cell_type": "markdown",
   "metadata": {},
   "source": [
    "## <center>Elementos básicos de programação - Programas</center>\n",
    "<br><br>\n",
    "\n",
    "- Para instruirmos a plataform .NET a realizar uma dada tarefa  temos de lhe fornecer um [**Programa**](https://docs.microsoft.com/en-us/dotnet/csharp/fundamentals/program-structure/), tipicamente escrito numa das linguagens suportadas pela plataforma (Ex: C#).\n",
    "<br><br>\n",
    "- Um programa em C# consiste em um ou mais ficheiros (tipicamente com a extensão `.cs`) que constituem o **código fonte** (_source code_), e que são submetidos ao processo de **_build_** de forma a produzir os artefactos necessários (ficheiros com a extensão `.dll`, `.exe`, etc.) para a sua execução pelo **_.NET runtime_** \n",
    "    - Um programa em C# pode ser encarado como uma **sequência de instruções/expressões** em linhas diferentes num ficheiro, separadas pela tecla _RETURN_.\n",
    "    - A linguagem C# fornece instrumentos para estruturar/organizar/arrumar o código, tais como **_namespaces_**, **_classes_**,  **_métodos_**, etc (veremos mais à frente cada uma delas). Basicamente são instrumentos que nos permitem manter a sanidade mental 😃. \n",
    "<br><br>    \n",
    "\n",
    "- Num programa C#, apenas pode existir **um único ponto de entrada**: o ponto que determina o início da execução do programa\n",
    "    -  Esse ponto de entrada é designado por `Main`. ([_Main method_](https://docs.microsoft.com/en-us/dotnet/csharp/fundamentals/program-structure/main-command-line))\n",
    "<br><br>\n",
    "\n",
    "- **Em C# 10 o ponto de entrada é implícito**. Exemplo num ficheiro `Program.cs`\n",
    "\n",
    "<small>\n",
    "\n",
    "\n",
    "```csharp\n",
    "        Console.WriteLine(\"Hello World!\");\n",
    "```\n",
    "\n",
    "</small>\n",
    "\n",
    "- Versões anteriores à versão C# 9, o ponto de entrada `Main` é explicito, o que implica escrever mais código só para determinar o ponto de entrada. Eis o mesmo exemplo do ficheiro `Program.cs`\n",
    "\n",
    "<small>\n",
    "\n",
    "```csharp\n",
    "        using System;\n",
    "        \n",
    "        namespace HelloWorldApp {\n",
    "            class Program {\n",
    "                static void Main(string[] args) {\n",
    "                    Console.WriteLine(\"Hello World!\");\n",
    "                }\n",
    "            }\n",
    "        }\n",
    "\n",
    "```\n",
    "</small>\n"
   ]
  },
  {
   "cell_type": "markdown",
   "metadata": {},
   "source": [
    "## <center> Estrutura de Controlo - Sequenciação </center>\n",
    "\n",
    "- Estrutura de controlo simples que consiste em **executar uma sequência de acções por ordem sequencial**\n",
    "\n",
    "<center>\n",
    "\n",
    "![Sequenciação](flowchart-sequence.png)\n",
    "\n",
    "</center>\n",
    "\n",
    "- As acções são expressas por **instruções**: [**_statements_**](https://docs.microsoft.com/en-us/dotnet/csharp/programming-guide/statements-expressions-operators/statements)\n",
    "- Uma instrução pode consistir numa **única linha de código que termina com um ponto e vírgula** `;`, **ou numa série de linhas agrupadas em bloco** e delimitadas por chavetas `{}` (**_block statement_**).\n",
    "- Exemplo\n",
    "\n",
    "<small>\n",
    "\n",
    "```csharp\n",
    "        // Variable declaration\n",
    "        int counter;\n",
    "\n",
    "        // Assignment\n",
    "        counter = 1;\n",
    "\n",
    "        // Assigment with an expression\n",
    "        counter = counter + 1;\n",
    "\n",
    "        // Error! It's only an expression\n",
    "        // counter + 1;\n",
    "\n",
    "        // Invocation\n",
    "        Console.WriteLine($\"Counter is {counter}\");\n",
    "\n",
    "        if (counter == 2) {\n",
    "            // Block with multiple statements\n",
    "\n",
    "            // Variable only visible in this block\n",
    "            int sqrCounter = counter * counter;\n",
    "\n",
    "            Console.WriteLine($\"Square of {counter} is {sqrCounter}\");\n",
    "        }\n",
    "\n",
    "        // Error: the variable sqrCounter is not in scope\n",
    "        // Console.WriteLine($\"Square of {counter} is {sqrCounter}\");\n",
    "```\n",
    "\n",
    "</small>\n",
    "\n",
    "- **_Nota_**: **O âmbito (_scope_) de uma variável** declarada dentro de um bloco, é restrito a esse bloco, ou seja apenas é visível nesse bloco.\n"
   ]
  },
  {
   "cell_type": "code",
   "execution_count": null,
   "metadata": {
    "dotnet_interactive": {
     "language": "csharp"
    },
    "vscode": {
     "languageId": "polyglot-notebook"
    }
   },
   "outputs": [],
   "source": [
    "int counter = 2;\n",
    "\n",
    "int sqrCounter;\n",
    "if (counter == 2) {\n",
    "    sqrCounter = counter * counter;\n",
    "    Console.WriteLine($\"Square Counter: {sqrCounter}\");\n",
    "\n",
    "}\n",
    "\n",
    "Console.WriteLine($\"Out of block: Square Counter: {sqrCounter}\");"
   ]
  },
  {
   "cell_type": "markdown",
   "metadata": {},
   "source": [
    "## <center>Sequenciação</center>\n",
    "\n",
    "- Exemplo Programa: Calculadora de preço com IVA\n",
    "\n",
    "<small>\n",
    "\n",
    "```csharp\n",
    "        // Input variables declaration\n",
    "        double price;\n",
    "        double vat;\n",
    "\n",
    "        // Ask values from user\n",
    "        Console.WriteLine(\"Price without VAT?\");\n",
    "        price = Convert.ToDouble(Console.ReadLine());\n",
    "\n",
    "        Console.WriteLine(\"VAT (%)?\");\n",
    "        vat = Convert.ToDouble(Console.ReadLine());\n",
    "\n",
    "        double taxValue = price * vat / 100;\n",
    "\n",
    "        // Display results\n",
    "        Console.WriteLine($\"Price: {price}, VAT: {vat}%, Taxes: {taxValue}, Final Price: {price + taxValue}\");\n",
    "\n",
    "```\n",
    "\n",
    "**_Nota_**: De notar alguma separação do código com linhas em branco para **facilitar a leitura do programa**\n",
    "\n",
    "</small>"
   ]
  },
  {
   "cell_type": "code",
   "execution_count": null,
   "metadata": {
    "dotnet_interactive": {
     "language": "csharp"
    },
    "vscode": {
     "languageId": "polyglot-notebook"
    }
   },
   "outputs": [],
   "source": []
  },
  {
   "cell_type": "markdown",
   "metadata": {},
   "source": [
    "## <center>Estrutura de controlo - Seleção</center>\n",
    "\n",
    "### [if](https://docs.microsoft.com/en-us/dotnet/csharp/language-reference/statements/selection-statements#the-if-statement)\n",
    "\n",
    "- Fluxograma `if`\n",
    "\n",
    "    ![if simples](flowchart-if.png)\n",
    "    \n",
    "<br><br>\n",
    "\n",
    "- Em C#\n",
    "\n",
    "<small>\n",
    "\n",
    "```csharp\n",
    "\n",
    "        if (condition)\n",
    "            operation1;\n",
    "\n",
    "```\n",
    "\n",
    "</small>\n",
    "\n",
    "- Se quisermos **usar várias instruções temos que usar um bloco** `{}`\n",
    "\n",
    "<small>\n",
    "\n",
    "```csharp\n",
    "\n",
    "        if (condition) {\n",
    "            operation1;\n",
    "            operation2;\n",
    "            //...\n",
    "            operationN\n",
    "        }\n",
    "\n",
    "```\n",
    "\n",
    "</small>\n",
    "\n",
    "- No caso da instrução única também podemos usar o bloco, ainda que não seja necessário. É também irrelevante se o início do bloco `{` está na mesma linha, ou numa linha separada (é uma questão de gosto).\n",
    "\n",
    "<small>\n",
    "\n",
    "```csharp\n",
    "\n",
    "        if (condition)\n",
    "        {\n",
    "            operation1;\n",
    "        }\n",
    "\n",
    "```\n",
    "\n",
    "</small>\n",
    "\n",
    "- **Muito Importante**: para faciliar a leitura do código devemos **indentar** (paragrafar) através da tecla `Tab` de forma a alinhar na mesma coluna todas as instruções que estão dentro do mesmo bloco."
   ]
  },
  {
   "cell_type": "markdown",
   "metadata": {},
   "source": [
    "## <center>Estrutura de controlo - Seleção</center>\n",
    "\n",
    "### [if](https://docs.microsoft.com/en-us/dotnet/csharp/language-reference/statements/selection-statements#the-if-statement)\n",
    "\n",
    "- Exemplo `if`: Determinar se um número é par\n",
    "\n",
    "<small>\n",
    "\n",
    "```csharp\n",
    "        int number;\n",
    "\n",
    "        Console.WriteLine(\"Number?\");\n",
    "        number = int.Parse(Console.ReadLine());\n",
    "\n",
    "        if (number % 2 == 0)\n",
    "            Console.WriteLine(\"It's even\");\n",
    "\n",
    "        Console.WriteLine(\"Bye\")\n",
    "\n",
    "```\n",
    "\n",
    "</small>"
   ]
  },
  {
   "cell_type": "code",
   "execution_count": null,
   "metadata": {
    "dotnet_interactive": {
     "language": "csharp"
    },
    "vscode": {
     "languageId": "polyglot-notebook"
    }
   },
   "outputs": [],
   "source": []
  },
  {
   "cell_type": "markdown",
   "metadata": {},
   "source": [
    "## <center>Estrutura de controlo - Seleção</center>\n",
    "\n",
    "### [if](https://docs.microsoft.com/en-us/dotnet/csharp/language-reference/statements/selection-statements#the-if-statement)\n",
    "\n",
    "- Exemplo `if` com bloco: Determinar se um número é par\n",
    "\n",
    "<small>\n",
    "\n",
    "```csharp\n",
    "        int number;\n",
    "\n",
    "        Console.WriteLine(\"Number?\");\n",
    "        number = int.Parse(Console.ReadLine());\n",
    "\n",
    "        if (number % 2 == 0) {\n",
    "            Console.WriteLine(\"It's even\")\n",
    "            Console.WriteLine(\"Bye\")\n",
    "        }\n",
    "\n",
    "\n",
    "```\n",
    "\n",
    "</small>"
   ]
  },
  {
   "cell_type": "code",
   "execution_count": null,
   "metadata": {
    "dotnet_interactive": {
     "language": "csharp"
    },
    "vscode": {
     "languageId": "polyglot-notebook"
    }
   },
   "outputs": [],
   "source": [
    "int number;\n",
    "\n",
    "Console.WriteLine(\"Number?\");\n",
    "Convert.ToInt32(Console.ReadLine());\n",
    "\n",
    "if (number % 2 == 0) {\n",
    "    Console.WriteLine(\"It's even\");\n",
    "}\n",
    "\n",
    "Console.WriteLine(\"Bye\");\n"
   ]
  },
  {
   "cell_type": "code",
   "execution_count": null,
   "metadata": {
    "dotnet_interactive": {
     "language": "csharp"
    },
    "vscode": {
     "languageId": "polyglot-notebook"
    }
   },
   "outputs": [],
   "source": []
  },
  {
   "cell_type": "markdown",
   "metadata": {},
   "source": [
    "## <center>Estrutura de controlo - Seleção</center>\n",
    "\n",
    "### [if else](https://docs.microsoft.com/en-us/dotnet/csharp/language-reference/statements/selection-statements#the-if-statement)\n",
    "\n",
    "- Fluxograma `if else`\n",
    "\n",
    "    ![if else](flowchart-if-else.png)\n",
    "<br><br>    \n",
    "\n",
    "- Em C#\n",
    "\n",
    "<small>\n",
    "\n",
    "```csharp\n",
    "        if (condition) {\n",
    "            operation1;\n",
    "        } \n",
    "        else {\n",
    "            operation2;\n",
    "        } \n",
    "```\n",
    "\n",
    "</small>\n",
    "\n",
    "- Aplicam-se as mesmas regras do que no `if` simples no que diz respeito aos blocos\n",
    "\n"
   ]
  },
  {
   "cell_type": "markdown",
   "metadata": {},
   "source": [
    "## <center>Estrutura de controlo - Seleção</center>\n",
    "\n",
    "### [if else](https://docs.microsoft.com/en-us/dotnet/csharp/language-reference/statements/selection-statements#the-if-statement)\n",
    "\n",
    "- Exemplo `if else`\n",
    "\n",
    "<small>\n",
    "\n",
    "```csharp\n",
    "        Console.WriteLine(\"Number?\");\n",
    "        int number = Convert.ToInt32(Console.ReadLine());\n",
    "\n",
    "        if (number % 2 == 0) {\n",
    "            Console.WriteLine(\"It's even\");\n",
    "        } else {\n",
    "            Console.WriteLine(\"It's odd\");\n",
    "        }\n",
    "\n",
    "        Console.WriteLine(\"Bye\");\n",
    "```\n",
    "\n",
    "\n",
    "</small>\n"
   ]
  },
  {
   "cell_type": "code",
   "execution_count": null,
   "metadata": {
    "dotnet_interactive": {
     "language": "csharp"
    },
    "vscode": {
     "languageId": "polyglot-notebook"
    }
   },
   "outputs": [],
   "source": [
    "\n"
   ]
  },
  {
   "cell_type": "markdown",
   "metadata": {},
   "source": [
    "## <center>Estrutura de controlo - Seleção</center>\n",
    "\n",
    "### ifs encadeados\n",
    "\n",
    "- Fluxograma ifs encadeados\n",
    "\n",
    "![ifs encadeados](flowchart-ifs-encadeados.png)\n",
    "\n",
    "<br><br>\n",
    "\n",
    "- Em C#\n",
    "\n",
    "<small>\n",
    "\n",
    "```csharp\n",
    "        if (condition1) {\n",
    "            operation1;\n",
    "        } else if (condition2) {\n",
    "            operation2;\n",
    "        } else if (condition3) {\n",
    "            operation3;\n",
    "        } else {\n",
    "            operationElse;\n",
    "        }\n",
    "```\n",
    "\n",
    "</small>"
   ]
  },
  {
   "cell_type": "markdown",
   "metadata": {},
   "source": [
    "## <center>Estrutura de controlo - Seleção</center>\n",
    "\n",
    "### ifs encadeados\n",
    "\n",
    "- Exemplo ifs encadeados: Conversor de notas\n",
    "\n",
    "<small>\n",
    "\n",
    "```csharp\n",
    "\n",
    "        int grade;\n",
    "\n",
    "        Console.WriteLine(\"What's your grade [0-20]?\");\n",
    "        grade = Convert.ToInt32(Console.ReadLine());\n",
    "\n",
    "        if (grade < 0 || grade > 20) {\n",
    "            Console.WriteLine(\"Invalid grade (expecting [0,20])\");\n",
    "        } else {\n",
    "            if (grade <= 4)\n",
    "                Console.WriteLine(\"E\");\n",
    "            else if (grade <= 9)\n",
    "                Console.WriteLine(\"D\");\n",
    "            else if (grade <= 13)\n",
    "                Console.WriteLine(\"C\");\n",
    "            else if (grade <= 17)\n",
    "                Console.WriteLine(\"B\");\n",
    "            else\n",
    "                Console.WriteLine(\"A\");\n",
    "\n",
    "        }\n",
    "\n",
    "```\n",
    "\n",
    "</small>\n"
   ]
  },
  {
   "cell_type": "code",
   "execution_count": null,
   "metadata": {
    "dotnet_interactive": {
     "language": "csharp"
    },
    "vscode": {
     "languageId": "polyglot-notebook"
    }
   },
   "outputs": [],
   "source": [
    "\n"
   ]
  },
  {
   "cell_type": "markdown",
   "metadata": {},
   "source": [
    "## <center>Estrutura de controlo - Seleção</center>\n",
    "\n",
    "### [Operador condicional ?:](https://docs.microsoft.com/en-us/dotnet/csharp/language-reference/operators/conditional-operator)\n",
    "\n",
    "- No ***contexto de uma expressão***, podemos usar o operador condicional `?`\n",
    "\n",
    "```\n",
    "    condition ? consequent : alternative\n",
    "```\n",
    "\n",
    "- Exemplo\n",
    "\n",
    "<small>\n",
    "\n",
    "```csharp\n",
    "        Console.WriteLine(\"Temperature in celsius?\");\n",
    "        int tempInCelsius = int.Parse(Console.ReadLine());\n",
    "\n",
    "        string displayWeather = tempInCelsius < 20 ? \"Cold.\" : \"Perfect!\";\n",
    "        Console.WriteLine($\"The weather is {displayWeather}\");\n",
    "```\n",
    "\n",
    "</small>\n",
    "\n",
    "- É equivalente a \n",
    "\n",
    "<small>\n",
    "\n",
    "```csharp\n",
    "        Console.WriteLine(\"Temperatur in celsius?\");\n",
    "        int tempInCelsius = int.Parse(Console.ReadLine());\n",
    "\n",
    "        string displayWeather;\n",
    "        if (tempInCelsius < 20)\n",
    "            displayWeather = \"Cold.\";\n",
    "        else\n",
    "            displayWeather= \"Perfect!\";\n",
    "            \n",
    "        Console.WriteLine($\"The weather is {displayWeather}\");\n",
    "```\n",
    "\n",
    "</small>\n"
   ]
  },
  {
   "cell_type": "code",
   "execution_count": null,
   "metadata": {
    "dotnet_interactive": {
     "language": "csharp"
    },
    "vscode": {
     "languageId": "polyglot-notebook"
    }
   },
   "outputs": [],
   "source": []
  },
  {
   "cell_type": "markdown",
   "metadata": {},
   "source": [
    "## <center>Estrutura de controlo - Seleção</center>\n",
    "\n",
    "### [switch](https://docs.microsoft.com/en-us/dotnet/csharp/language-reference/statements/selection-statements#the-if-statement)\n",
    "\n",
    "- O `switch` é uma alternativa aos ifs encadeados\n",
    "\n",
    "<small>\n",
    "\n",
    "```csharp\n",
    "\n",
    "        switch (expression) {\n",
    "            case pattern1:\n",
    "                operation1;\n",
    "                break;\n",
    "            case pattern2:\n",
    "                operation2;\n",
    "                break;\n",
    "            case pattern3:\n",
    "                operation3;\n",
    "                break:\n",
    "            default:\n",
    "                defaultOperation;\n",
    "                break;\n",
    "        }\n",
    "\n",
    "```\n",
    "\n",
    "\n",
    "</small>"
   ]
  },
  {
   "cell_type": "markdown",
   "metadata": {},
   "source": [
    "## <center>Estrutura de controlo - Seleção</center>\n",
    "\n",
    "### [switch](https://docs.microsoft.com/en-us/dotnet/csharp/language-reference/statements/selection-statements#the-if-statement)\n",
    "\n",
    "- Exemplo\n",
    "\n",
    "<small>\n",
    "\n",
    "```csharp\n",
    "        int grade;\n",
    "\n",
    "        Console.WriteLine(\"What's your grade [0-20]?\");\n",
    "        grade = Convert.ToInt32(Console.ReadLine());\n",
    "\n",
    "        switch (grade) {\n",
    "            case < 0:\n",
    "            case > 20:\n",
    "                Console.WriteLine(\"Invalid grade (expecting [0,20])\");\n",
    "                break;\n",
    "            case > 17:\n",
    "                Console.WriteLine(\"A\");\n",
    "                break;\n",
    "            case > 13:\n",
    "                Console.WriteLine(\"B\");\n",
    "                break;\n",
    "            case > 9:\n",
    "                Console.WriteLine(\"C\");\n",
    "                break;\n",
    "            case > 4:\n",
    "                Console.WriteLine(\"E\");\n",
    "                break;\n",
    "            default:\n",
    "                Console.WriteLine(\"A\");\n",
    "                break;\n",
    "        }\n",
    "\n",
    "\n",
    "```\n",
    "\n",
    "</small>\n",
    "\n",
    "- Por vezes é mais uma questão de gosto entre usar ifs encadeados ou um switch! \n",
    "    - Quando temos muitos ifs encadeados ou um switch com muitos cases, pode ser um indicador que podemos fazer melhor 🤔 ([code smell](https://en.wikipedia.org/wiki/Code_smell)). Mas por agora não nos vamos preocupar com isso!\n",
    "\n",
    "\n",
    "\n"
   ]
  },
  {
   "cell_type": "code",
   "execution_count": null,
   "metadata": {
    "dotnet_interactive": {
     "language": "csharp"
    },
    "vscode": {
     "languageId": "polyglot-notebook"
    }
   },
   "outputs": [],
   "source": []
  },
  {
   "cell_type": "markdown",
   "metadata": {},
   "source": [
    "## <center>Estrutura de controlo - Repetição</center>\n",
    "\n",
    "### [while](https://docs.microsoft.com/en-us/dotnet/csharp/language-reference/statements/iteration-statements#the-while-statement)\n",
    "\n",
    "- Fluxograma\n",
    "\n",
    "  ![while](flowchart-while.png)\n",
    "<br><br>\n",
    "\n",
    "- Em C#\n",
    "\n",
    "<small>\n",
    "\n",
    "```csharp\n",
    "        while (condition) {\n",
    "          operation1;\n",
    "          operation2;\n",
    "          //...\n",
    "          operationN;\n",
    "        }\n",
    "```\n",
    "\n",
    "</small>\n",
    "\n",
    "- **Pode não executar o corpo do ciclo** (no caso em que a condição é `false` na 1ª avaliação))"
   ]
  },
  {
   "cell_type": "markdown",
   "metadata": {},
   "source": [
    "## <center>Estrutura de controlo - Repetição</center>\n",
    "\n",
    "### [while](https://docs.microsoft.com/en-us/dotnet/csharp/language-reference/statements/iteration-statements#the-while-statement)\n",
    "\n",
    "- Exemplo: Soma números até utilizador introduzir número negativo\n",
    "\n",
    "<small>\n",
    "\n",
    "```csharp\n",
    "        int sum = 0;\n",
    "\n",
    "        Console.WriteLine(\"Enter a negative number to finish\");\n",
    "        int number = int.Parse(Console.ReadLine());\n",
    "\n",
    "        while (number >= 0) {\n",
    "            sum = sum + number;\n",
    "            number = int.Parse(Console.ReadLine());\n",
    "        }\n",
    "\n",
    "        Console.WriteLine($\"Sum is {sum}\");        \n",
    "```\n",
    "\n",
    "</small>\n"
   ]
  },
  {
   "cell_type": "code",
   "execution_count": null,
   "metadata": {
    "dotnet_interactive": {
     "language": "csharp"
    },
    "vscode": {
     "languageId": "polyglot-notebook"
    }
   },
   "outputs": [],
   "source": []
  },
  {
   "cell_type": "markdown",
   "metadata": {},
   "source": [
    "## <center>Estrutura de controlo - Repetição</center>\n",
    "\n",
    "### [do while](https://docs.microsoft.com/en-us/dotnet/csharp/language-reference/statements/iteration-statements#the-do-statement)\n",
    "\n",
    "- Fluxograma\n",
    "\n",
    "  ![do while](flowchart-do-while.png)\n",
    "<br><br>\n",
    "\n",
    "- Em C#\n",
    "\n",
    "<small>\n",
    "\n",
    "```csharp\n",
    "        do {\n",
    "            operation1;\n",
    "            //...\n",
    "            operationN;\n",
    "        } while (condition);\n",
    "\n",
    "```\n",
    "\n",
    "</small>\n",
    "\n",
    "- **Executa pelo menos uma vez o corpo do ciclo**, visto que a condição é avaliada no final de cada iteração\n"
   ]
  },
  {
   "cell_type": "markdown",
   "metadata": {},
   "source": [
    "## <center>Estrutura de controlo - Repetição</center>\n",
    "\n",
    "### [do while](https://docs.microsoft.com/en-us/dotnet/csharp/language-reference/statements/iteration-statements#the-do-statement)\n",
    "\n",
    "- Exemplo: Soma números até atingirmos o valor 10\n",
    "\n",
    "<small>\n",
    "\n",
    "```csharp\n",
    "\n",
    "        int sum = 0;\n",
    "\n",
    "        Console.WriteLine(\"Enter your numbers. The program will exit as soon the sum has its value equal or greater than 10.\");\n",
    "\n",
    "        do {\n",
    "            int number = int.Parse(Console.ReadLine());\n",
    "            sum += number;\n",
    "        } while (sum < 10);\n",
    "\n",
    "\n",
    "        Console.WriteLine($\"Sum is {sum}\");  \n",
    "```\n",
    "\n",
    "</small>"
   ]
  },
  {
   "cell_type": "code",
   "execution_count": null,
   "metadata": {
    "dotnet_interactive": {
     "language": "csharp"
    },
    "vscode": {
     "languageId": "polyglot-notebook"
    }
   },
   "outputs": [],
   "source": []
  },
  {
   "cell_type": "markdown",
   "metadata": {},
   "source": [
    "## <center>Estrutura de controlo - Repetição</center>\n",
    "\n",
    "### [for](https://docs.microsoft.com/en-us/dotnet/csharp/language-reference/statements/iteration-statements#the-for-statement)\n",
    "\n",
    "- Fluxograma: igual ao ciclo while, mas com algumas formas pré-definidas.\n",
    "\n",
    "  ![for](flowchart-for.png)\n",
    "<br><br>\n",
    "\n",
    "- Em C#\n",
    "\n",
    "<small>\n",
    "\n",
    "```csharp\n",
    "        for (Initializer; condition; Iterator) {\n",
    "            Operation1;\n",
    "            Operation2;\n",
    "            //...\n",
    "            OperationN;\n",
    "        }\n",
    "\n",
    "```\n",
    "\n",
    "</small>\n",
    "\n",
    "- O `Initializer` é executada apenas uma vez, antes de entrar no loop\n",
    "  - Ex: `int i = 0`\n",
    "- A `condition` determina se a próxima iteração do loop é executada\n",
    "  - Ex: `i < 10`\n",
    "- O `Iterator` define o que acontece no final de cada execução\n",
    "  - Ex: `i++`  (incremeta a variável `i`, é o mesmo que `i = i + 1`)\n"
   ]
  },
  {
   "cell_type": "markdown",
   "metadata": {},
   "source": [
    "## <center>Estrutura de controlo - Repetição</center>\n",
    "\n",
    "### [for](https://docs.microsoft.com/en-us/dotnet/csharp/language-reference/statements/iteration-statements#the-for-statement)\n",
    "\n",
    "- Exemplo: Repete 10 vezes o que o utilizador escreveu\n",
    "\n",
    "<small>\n",
    "\n",
    "```csharp\n",
    "\n",
    "        Console.WriteLine(\"I like to repeat what you say. Tell me something.\");\n",
    "        string phrase = Console.ReadLine();\n",
    "\n",
    "        for (int i = 0; i < 10; i++) {\n",
    "            Console.WriteLine(phrase);\n",
    "        }\n",
    "\n",
    "```\n",
    "\n",
    "</small>\n"
   ]
  },
  {
   "cell_type": "code",
   "execution_count": null,
   "metadata": {
    "dotnet_interactive": {
     "language": "csharp"
    },
    "vscode": {
     "languageId": "polyglot-notebook"
    }
   },
   "outputs": [],
   "source": []
  },
  {
   "cell_type": "markdown",
   "metadata": {},
   "source": [
    "## <center>Estrutura de controlo - Repetição</center>\n",
    "\n",
    "### [for](https://docs.microsoft.com/en-us/dotnet/csharp/language-reference/statements/iteration-statements#the-for-statement)\n",
    "\n",
    "- Afinal é muito parecido com um ciclo `while`\n",
    "\n",
    "<small>\n",
    "\n",
    "```csharp\n",
    "\n",
    "        Console.WriteLine(\"I like to repeat what you say. Tell me something.\");\n",
    "        string phrase = Console.ReadLine();\n",
    "\n",
    "        int i = 0;                      // Initializer\n",
    "        while (i < 10) {                // Condition\n",
    "            Console.WriteLine(phrase);\n",
    "            i++;                        // Iterator\n",
    "        }\n",
    "```\n",
    "\n",
    "</small>\n",
    "\n",
    "- Na verdade conseguimos escrever o mesmo loop com um ciclo `for` ou um ciclo `while`\n",
    "    - Por vezes é uma questão de gosto\n",
    "    - O ciclo `for` é mais usado quando sabemos exatamente o número de repetições\n"
   ]
  },
  {
   "cell_type": "code",
   "execution_count": null,
   "metadata": {
    "dotnet_interactive": {
     "language": "csharp"
    },
    "vscode": {
     "languageId": "polyglot-notebook"
    }
   },
   "outputs": [],
   "source": []
  },
  {
   "cell_type": "markdown",
   "metadata": {},
   "source": [
    "## <center>Estrutura de controlo - Repetição</center>\n",
    "\n",
    "### Instrução [break](https://docs.microsoft.com/en-us/dotnet/csharp/language-reference/statements/jump-statements#the-break-statement)\n",
    "\n",
    "- A instrução de `break` é aplicável a qualquer ciclo (`while`, `do while`, ou `for`) e permite **abortar o ciclo mais próximo** que está a ser executado\n",
    "\n",
    "- Exemplo: Pedir um máximo de 5 números ao utilizador. O algoritmo deverá terminar (explodir 😃) assim que a soma for superior a 10\n",
    "\n",
    "<small>\n",
    "\n",
    "```csharp\n",
    "        int sum = 0;\n",
    "        Console.WriteLine(\"Give me your numbers\");\n",
    "        for (int i = 1; i <= 5; i++) {\n",
    "            int number = int.Parse(Console.ReadLine());\n",
    "            sum += number;           // Equivalent to sum = sum + number\n",
    "            if (sum > 10) {\n",
    "                Console.WriteLine($\"Kaboom! Exploded at attempt {i}\");\n",
    "                break;\n",
    "            }\n",
    "        }\n",
    "\n",
    "        Console.WriteLine($\"Sum is {sum}\");\n",
    "\n",
    "```\n",
    "\n",
    "</small>\n",
    "\n"
   ]
  },
  {
   "cell_type": "code",
   "execution_count": null,
   "metadata": {
    "dotnet_interactive": {
     "language": "csharp"
    },
    "vscode": {
     "languageId": "polyglot-notebook"
    }
   },
   "outputs": [],
   "source": []
  },
  {
   "cell_type": "markdown",
   "metadata": {},
   "source": [
    "## <center>Estrutura de controlo - Repetição</center>\n",
    "\n",
    "### Instrução [continue](https://docs.microsoft.com/en-us/dotnet/csharp/language-reference/statements/jump-statements#the-continue-statement)\n",
    "\n",
    "- A instrução de `continue` é aplicável a qualquer ciclo (`while`, `do while`, ou `for`) e permite **iniciar uma nova iteração do ciclo mais próximo** que está a ser executado\n",
    "\n",
    "- Exemplo: Pedir 5 números ao utilizador. Ignorar os que são simultaneamente múltiplos de 3 e múltiplos 5. Todos os outros deverão ser mostrados no final do programa que foram selecionados. A sua soma também deverá ser mostrada.\n",
    "\n",
    "<small>\n",
    "\n",
    "```csharp\n",
    "        string selectedNumbers = \"\";\n",
    "        int sum = 0;\n",
    "        \n",
    "        Console.WriteLine(\"Give me your numbers\");\n",
    "        for (int i = 0; i < 5; i++) {\n",
    "            int number = int.Parse(Console.ReadLine());\n",
    "            if (number % 3 == 0 && number % 5 == 0)\n",
    "                continue;\n",
    "\n",
    "            // Process our numbers\n",
    "            selectedNumbers = $\"{selectedNumbers},{number}\";\n",
    "            sum += number;\n",
    "        }\n",
    "\n",
    "        Console.WriteLine($\"Selected numbers: {selectedNumbers}\");\n",
    "        Console.WriteLine($\"Sum is {sum}\");\n",
    "\n",
    "```\n",
    "\n",
    "\n",
    "**_Nota_**: Repara que os números selecionados, quando são mostrados, têm uma `,` no início. Tenta alterar o programa para corrigir esse pequeno detalhe!!\n",
    "\n",
    "</small>\n",
    "\n",
    "\n"
   ]
  },
  {
   "cell_type": "code",
   "execution_count": null,
   "metadata": {
    "dotnet_interactive": {
     "language": "csharp"
    },
    "vscode": {
     "languageId": "polyglot-notebook"
    }
   },
   "outputs": [],
   "source": [
    "/*\n",
    "string categoria;\n",
    "\n",
    "if (imc < 16) {\n",
    "    categoria = \"Baixo Peso Grau II\";\n",
    "} \n",
    "else if (imc <17) {\n",
    "    categoria = \"Baixo Peso Grau I\";\n",
    "}\n",
    "...\n",
    "*/\n",
    "\n",
    "// Usando um switch expression \n",
    "double imc = 26.36;\n",
    "\n",
    "string categoria = imc switch {\n",
    "    < 16 => \"Baixo Peso Grau III\",\n",
    "    < 17 => \"Baixo Peso Grau II\",\n",
    "    < 18.5 => \"Baixo Peso Grau I\",\n",
    "    < 25 => \"Peso Normal\",\n",
    "    < 30 => \"Sobrepeso\",\n",
    "    < 35 => \"Obesidade Grau I\",\n",
    "    < 40 => \"Obesidade Grau II\",\n",
    "    _ => \"Obesidade Grau III\",\n",
    "};\n",
    "\n",
    "Console.WriteLine($\"A tua categoria {categoria}\");\n"
   ]
  },
  {
   "cell_type": "code",
   "execution_count": null,
   "metadata": {
    "dotnet_interactive": {
     "language": "csharp"
    },
    "vscode": {
     "languageId": "polyglot-notebook"
    }
   },
   "outputs": [],
   "source": []
  }
 ],
 "metadata": {
  "kernelspec": {
   "display_name": ".NET (C#)",
   "language": "C#",
   "name": ".net-csharp"
  },
  "language_info": {
   "name": "C#"
  }
 },
 "nbformat": 4,
 "nbformat_minor": 2
}
